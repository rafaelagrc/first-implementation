{
 "cells": [
  {
   "cell_type": "code",
   "execution_count": 15,
   "metadata": {},
   "outputs": [
    {
     "name": "stdout",
     "output_type": "stream",
     "text": [
      "Found 1500 validated image filenames belonging to 3 classes.\n",
      "Found 500 validated image filenames belonging to 3 classes.\n",
      "Found 600 validated image filenames.\n"
     ]
    }
   ],
   "source": [
    "import tensorflow as tf\n",
    "from tensorflow import keras\n",
    "from keras.models import Sequential\n",
    "#Import from keras_preprocessing not from keras.preprocessing\n",
    "from keras_preprocessing.image import ImageDataGenerator\n",
    "from keras.layers import Dense, Activation, Flatten, Dropout, BatchNormalization\n",
    "from keras.layers import Conv2D, MaxPooling2D\n",
    "from keras import regularizers, optimizers\n",
    "import pandas as pd\n",
    "import numpy as np\n",
    "\n",
    "def append_ext(fn):\n",
    "    return fn+\".jpg\"\n",
    "\n",
    "traindf=pd.read_csv('D:\\\\UNI\\\\5º Ano - 2º Semestre - 2020-2021 - TESE\\\\Dataset\\\\ISIC-2017_Training_Part3_GroundTruth.csv',dtype=str)\n",
    "testdf=pd.read_csv('D:\\\\UNI\\\\5º Ano - 2º Semestre - 2020-2021 - TESE\\\\Dataset\\\\ISIC-2017_Test_v2_Part3_GroundTruth.csv',dtype=str)\n",
    "traindf['image_id']=traindf['image_id'].apply(append_ext)\n",
    "testdf['image_id']=testdf['image_id'].apply(append_ext)\n",
    "#datagen=ImageDataGenerator(rescale=1./255.,validation_split=0.25)\n",
    "datagen=ImageDataGenerator(validation_split=0.25)\n",
    "\n",
    "label=[0]*traindf.shape[0]\n",
    "for i in range(traindf.shape[0]):\n",
    "    if traindf['melanoma'][i] == '1.0':\n",
    "        label[i]='1'\n",
    "    elif traindf['seborrheic_keratosis'][i] == '1.0':\n",
    "        label[i]='2'\n",
    "    else:\n",
    "        label[i]='0'\n",
    "\n",
    "traindf['label']=label    \n",
    "\n",
    "#create a label\n",
    "label=[0]*testdf.shape[0]\n",
    "for i in range(testdf.shape[0]):\n",
    "    if testdf['melanoma'][i] == '1.0':\n",
    "        label[i]='1'\n",
    "    elif testdf['seborrheic_keratosis'][i] == '1.0':\n",
    "        label[i]='2'\n",
    "    else:\n",
    "        label[i]='0'\n",
    "\n",
    "testdf['label']=label\n",
    "\n",
    "train_generator=datagen.flow_from_dataframe(dataframe=traindf,\n",
    "                                            directory='D:\\\\UNI\\\\5º Ano - 2º Semestre - 2020-2021 - TESE\\\\Dataset\\\\ISIC-2017_Training_Data\\\\',\n",
    "                                            x_col='image_id',\n",
    "                                            y_col='label',\n",
    "                                            subset='training',\n",
    "                                            batch_size=32,\n",
    "                                            seed=42,\n",
    "                                            shuffle=True,\n",
    "                                            class_mode='categorical',\n",
    "                                            target_size=(32,32)\n",
    "                                           )\n",
    "\n",
    "valid_generator=datagen.flow_from_dataframe(dataframe=traindf,\n",
    "                                            directory='D:\\\\UNI\\\\5º Ano - 2º Semestre - 2020-2021 - TESE\\\\Dataset\\\\ISIC-2017_Training_Data\\\\',\n",
    "                                            x_col='image_id',\n",
    "                                            y_col='label',\n",
    "                                            subset='validation',\n",
    "                                            batch_size=32,\n",
    "                                            seed=42,\n",
    "                                            shuffle=True,\n",
    "                                            class_mode='categorical',\n",
    "                                            target_size=(32,32)\n",
    "                                           )\n",
    "\n",
    "#test_datagen=ImageDataGenerator(rescale=1./255.)\n",
    "test_datagen=ImageDataGenerator()\n",
    "test_generator=test_datagen.flow_from_dataframe(dataframe=testdf,\n",
    "                                                directory='D:\\\\UNI\\\\5º Ano - 2º Semestre - 2020-2021 - TESE\\\\Dataset\\\\ISIC-2017_Test_v2_Data\\\\',\n",
    "                                                x_col='image_id',\n",
    "                                                y_col=None,\n",
    "                                                batch_size=32,\n",
    "                                                seed=42,\n",
    "                                                shuffle=False,\n",
    "                                                class_mode=None,\n",
    "                                                target_size=(32,32)\n",
    "                                               )\n",
    "\n"
   ]
  },
  {
   "cell_type": "code",
   "execution_count": 2,
   "metadata": {},
   "outputs": [],
   "source": [
    "IMG_SIZE = 224\n",
    "from tensorflow.keras.applications import EfficientNetB0\n",
    "# Create the base model from the pre-trained model EfficientNet\n",
    "base_model = EfficientNetB0(include_top=False, weights=\"imagenet\")"
   ]
  },
  {
   "cell_type": "code",
   "execution_count": 3,
   "metadata": {},
   "outputs": [],
   "source": [
    "from tensorflow.keras import layers\n",
    "from tensorflow.keras.layers.experimental import preprocessing\n",
    "\n",
    "NUM_CLASSES=3\n",
    "inputs = layers.Input(shape=(IMG_SIZE, IMG_SIZE, 3))\n",
    "x = inputs\n",
    "model = EfficientNetB0(include_top=False, input_tensor=x, weights=\"imagenet\")\n",
    "\n",
    "# Freeze the pretrained weights\n",
    "model.trainable = False\n",
    "\n",
    "# Rebuild top\n",
    "x = layers.GlobalAveragePooling2D(name=\"avg_pool\")(model.output)\n",
    "x = layers.BatchNormalization()(x)\n",
    "\n",
    "top_dropout_rate = 0.2\n",
    "x = layers.Dropout(top_dropout_rate, name=\"top_dropout\")(x)\n",
    "outputs = layers.Dense(NUM_CLASSES, activation=\"softmax\", name=\"pred\")(x)\n",
    "\n",
    "# Compile\n",
    "model = tf.keras.Model(inputs, outputs, name=\"EfficientNet\")\n",
    "optimizer = tf.keras.optimizers.Adam(learning_rate=1e-2)\n",
    "model.compile(optimizer=optimizer, loss=\"categorical_crossentropy\", metrics=[\"accuracy\"])"
   ]
  },
  {
   "cell_type": "code",
   "execution_count": 4,
   "metadata": {},
   "outputs": [
    {
     "name": "stdout",
     "output_type": "stream",
     "text": [
      "Epoch 1/10\n",
      "47/47 [==============================] - 314s 7s/step - loss: 1.5908 - accuracy: 0.5410 - val_loss: 0.9944 - val_accuracy: 0.7420\n",
      "Epoch 2/10\n",
      "47/47 [==============================] - 300s 6s/step - loss: 1.2723 - accuracy: 0.6179 - val_loss: 0.6824 - val_accuracy: 0.7440\n",
      "Epoch 3/10\n",
      "47/47 [==============================] - 294s 6s/step - loss: 1.0319 - accuracy: 0.6848 - val_loss: 0.6785 - val_accuracy: 0.7280\n",
      "Epoch 4/10\n",
      "47/47 [==============================] - 297s 6s/step - loss: 1.1181 - accuracy: 0.6587 - val_loss: 0.6413 - val_accuracy: 0.7420\n",
      "Epoch 5/10\n",
      "47/47 [==============================] - 294s 6s/step - loss: 1.0797 - accuracy: 0.6680 - val_loss: 0.7935 - val_accuracy: 0.7440\n",
      "Epoch 6/10\n",
      "47/47 [==============================] - 291s 6s/step - loss: 0.9110 - accuracy: 0.6952 - val_loss: 0.7642 - val_accuracy: 0.7340\n",
      "Epoch 7/10\n",
      "47/47 [==============================] - 290s 6s/step - loss: 0.9973 - accuracy: 0.6915 - val_loss: 0.8171 - val_accuracy: 0.7160\n",
      "Epoch 8/10\n",
      "47/47 [==============================] - 292s 6s/step - loss: 1.1198 - accuracy: 0.6452 - val_loss: 0.7347 - val_accuracy: 0.7500\n",
      "Epoch 9/10\n",
      "47/47 [==============================] - 297s 6s/step - loss: 0.9762 - accuracy: 0.6682 - val_loss: 0.8545 - val_accuracy: 0.7220\n",
      "Epoch 10/10\n",
      "47/47 [==============================] - 295s 6s/step - loss: 0.9819 - accuracy: 0.6730 - val_loss: 0.7942 - val_accuracy: 0.7280\n"
     ]
    },
    {
     "data": {
      "text/plain": [
       "<tensorflow.python.keras.callbacks.History at 0x218e06ca700>"
      ]
     },
     "execution_count": 4,
     "metadata": {},
     "output_type": "execute_result"
    }
   ],
   "source": [
    "STEP_SIZE_TRAIN=train_generator.n//train_generator.batch_size\n",
    "STEP_SIZE_VALID=valid_generator.n//valid_generator.batch_size\n",
    "STEP_SIZE_TEST=test_generator.n//test_generator.batch_size\n",
    "model.fit(train_generator,\n",
    "          epochs=10,\n",
    "          validation_data=valid_generator,\n",
    "          verbose=1\n",
    "         )"
   ]
  },
  {
   "cell_type": "code",
   "execution_count": 5,
   "metadata": {},
   "outputs": [
    {
     "name": "stdout",
     "output_type": "stream",
     "text": [
      "15/15 [==============================] - 19s 1s/step - loss: 0.7943 - accuracy: 0.7312\n"
     ]
    },
    {
     "data": {
      "text/plain": [
       "[0.7943381667137146, 0.731249988079071]"
      ]
     },
     "execution_count": 5,
     "metadata": {},
     "output_type": "execute_result"
    }
   ],
   "source": [
    "model.evaluate(valid_generator,\n",
    "               steps=STEP_SIZE_VALID)"
   ]
  },
  {
   "cell_type": "code",
   "execution_count": 6,
   "metadata": {},
   "outputs": [
    {
     "name": "stdout",
     "output_type": "stream",
     "text": [
      "18/18 [==============================] - 252s 14s/step\n"
     ]
    }
   ],
   "source": [
    "test_generator.reset()\n",
    "pred=model.predict(test_generator,\n",
    "                   steps=STEP_SIZE_TEST,\n",
    "                   verbose=1)"
   ]
  },
  {
   "cell_type": "code",
   "execution_count": 7,
   "metadata": {},
   "outputs": [],
   "source": [
    "predicted_class_indices=np.argmax(pred,axis=1)"
   ]
  },
  {
   "cell_type": "code",
   "execution_count": 8,
   "metadata": {},
   "outputs": [],
   "source": [
    "labels = (train_generator.class_indices)\n",
    "labels = dict((v,k) for k,v in labels.items())\n",
    "predictions = [labels[k] for k in predicted_class_indices]"
   ]
  },
  {
   "cell_type": "code",
   "execution_count": 9,
   "metadata": {},
   "outputs": [
    {
     "data": {
      "image/png": "[encoded data removed]",
      "text/plain": [
       "<Figure size 432x288 with 1 Axes>"
      ]
     },
     "metadata": {
      "needs_background": "light"
     },
     "output_type": "display_data"
    },
    {
     "data": {
      "image/png": "[encoded data removed]",
      "text/plain": [
       "<Figure size 432x288 with 1 Axes>"
      ]
     },
     "metadata": {
      "needs_background": "light"
     },
     "output_type": "display_data"
    },
    {
     "data": {
      "image/png": "[encoded data removed]",
      "text/plain": [
       "<Figure size 432x288 with 1 Axes>"
      ]
     },
     "metadata": {
      "needs_background": "light"
     },
     "output_type": "display_data"
    },
    {
     "data": {
      "image/png": "[encoded data removed]",
      "text/plain": [
       "<Figure size 432x288 with 1 Axes>"
      ]
     },
     "metadata": {
      "needs_background": "light"
     },
     "output_type": "display_data"
    },
    {
     "data": {
      "image/png": "[encoded data removed]",
      "text/plain": [
       "<Figure size 432x288 with 1 Axes>"
      ]
     },
     "metadata": {
      "needs_background": "light"
     },
     "output_type": "display_data"
    },
    {
     "data": {
      "image/png": "[encoded data removed]",
      "text/plain": [
       "<Figure size 432x288 with 1 Axes>"
      ]
     },
     "metadata": {
      "needs_background": "light"
     },
     "output_type": "display_data"
    },
    {
     "data": {
      "image/png": "[encoded data removed]",
      "text/plain": [
       "<Figure size 432x288 with 1 Axes>"
      ]
     },
     "metadata": {
      "needs_background": "light"
     },
     "output_type": "display_data"
    },
    {
     "data": {
      "image/png": "[encoded data removed]",
      "text/plain": [
       "<Figure size 432x288 with 1 Axes>"
      ]
     },
     "metadata": {
      "needs_background": "light"
     },
     "output_type": "display_data"
    },
    {
     "data": {
      "image/png": "[encoded data removed]",
      "text/plain": [
       "<Figure size 432x288 with 1 Axes>"
      ]
     },
     "metadata": {
      "needs_background": "light"
     },
     "output_type": "display_data"
    }
   ],
   "source": [
    "from keras.preprocessing import image\n",
    "import matplotlib.pyplot as plt\n",
    "x = test_generator.next() #this unpacks the ImageDataGenerator which is composed by x(image) and y(label). In the case of test, there are not labels\n",
    "for i in range(9):\n",
    "    image = x[i]\n",
    "    plt.title(predictions[i])\n",
    "    plt.imshow(image.astype(np.uint8))\n",
    "    plt.show()"
   ]
  },
  {
   "cell_type": "code",
   "execution_count": 17,
   "metadata": {},
   "outputs": [
    {
     "name": "stdout",
     "output_type": "stream",
     "text": [
      "Predictions\n",
      "Melanoma:21\n",
      "Seborrheic Keratosis:49\n",
      "Non-Melanoma:506\n",
      "\n",
      "Ground Truth\n",
      "Melanoma:117\n",
      "Seborrheic Keratosis:90\n",
      "Non-Melanoma:393\n"
     ]
    }
   ],
   "source": [
    "print('Predictions')\n",
    "print('Melanoma:' + str(np.count_nonzero(predicted_class_indices == 1)))\n",
    "print('Seborrheic Keratosis:' + str(np.count_nonzero(predicted_class_indices == 2)))\n",
    "print('Non-Melanoma:' + str(np.count_nonzero(predicted_class_indices == 0)))\n",
    "\n",
    "print('\\nGround Truth')\n",
    "print('Melanoma:' + str(np.count_nonzero(testdf['label'] == '1')))\n",
    "print('Seborrheic Keratosis:' + str(np.count_nonzero(testdf['label'] == '2')))\n",
    "print('Non-Melanoma:' + str(np.count_nonzero(testdf['label'] == '0')))"
   ]
  },
  {
   "cell_type": "code",
   "execution_count": 16,
   "metadata": {},
   "outputs": [
    {
     "data": {
      "text/html": [
       "<div>\n",
       "<style scoped>\n",
       "    .dataframe tbody tr th:only-of-type {\n",
       "        vertical-align: middle;\n",
       "    }\n",
       "\n",
       "    .dataframe tbody tr th {\n",
       "        vertical-align: top;\n",
       "    }\n",
       "\n",
       "    .dataframe thead th {\n",
       "        text-align: right;\n",
       "    }\n",
       "</style>\n",
       "<table border=\"1\" class=\"dataframe\">\n",
       "  <thead>\n",
       "    <tr style=\"text-align: right;\">\n",
       "      <th></th>\n",
       "      <th>image_id</th>\n",
       "      <th>melanoma</th>\n",
       "      <th>seborrheic_keratosis</th>\n",
       "      <th>label</th>\n",
       "    </tr>\n",
       "  </thead>\n",
       "  <tbody>\n",
       "    <tr>\n",
       "      <th>0</th>\n",
       "      <td>ISIC_0012086.jpg</td>\n",
       "      <td>0.0</td>\n",
       "      <td>1.0</td>\n",
       "      <td>2</td>\n",
       "    </tr>\n",
       "    <tr>\n",
       "      <th>1</th>\n",
       "      <td>ISIC_0012092.jpg</td>\n",
       "      <td>0.0</td>\n",
       "      <td>0.0</td>\n",
       "      <td>0</td>\n",
       "    </tr>\n",
       "    <tr>\n",
       "      <th>2</th>\n",
       "      <td>ISIC_0012095.jpg</td>\n",
       "      <td>0.0</td>\n",
       "      <td>0.0</td>\n",
       "      <td>0</td>\n",
       "    </tr>\n",
       "    <tr>\n",
       "      <th>3</th>\n",
       "      <td>ISIC_0012134.jpg</td>\n",
       "      <td>0.0</td>\n",
       "      <td>1.0</td>\n",
       "      <td>2</td>\n",
       "    </tr>\n",
       "    <tr>\n",
       "      <th>4</th>\n",
       "      <td>ISIC_0012136.jpg</td>\n",
       "      <td>0.0</td>\n",
       "      <td>1.0</td>\n",
       "      <td>2</td>\n",
       "    </tr>\n",
       "    <tr>\n",
       "      <th>...</th>\n",
       "      <td>...</td>\n",
       "      <td>...</td>\n",
       "      <td>...</td>\n",
       "      <td>...</td>\n",
       "    </tr>\n",
       "    <tr>\n",
       "      <th>595</th>\n",
       "      <td>ISIC_0016068.jpg</td>\n",
       "      <td>0.0</td>\n",
       "      <td>0.0</td>\n",
       "      <td>0</td>\n",
       "    </tr>\n",
       "    <tr>\n",
       "      <th>596</th>\n",
       "      <td>ISIC_0016069.jpg</td>\n",
       "      <td>0.0</td>\n",
       "      <td>0.0</td>\n",
       "      <td>0</td>\n",
       "    </tr>\n",
       "    <tr>\n",
       "      <th>597</th>\n",
       "      <td>ISIC_0016070.jpg</td>\n",
       "      <td>0.0</td>\n",
       "      <td>0.0</td>\n",
       "      <td>0</td>\n",
       "    </tr>\n",
       "    <tr>\n",
       "      <th>598</th>\n",
       "      <td>ISIC_0016071.jpg</td>\n",
       "      <td>0.0</td>\n",
       "      <td>0.0</td>\n",
       "      <td>0</td>\n",
       "    </tr>\n",
       "    <tr>\n",
       "      <th>599</th>\n",
       "      <td>ISIC_0016072.jpg</td>\n",
       "      <td>0.0</td>\n",
       "      <td>0.0</td>\n",
       "      <td>0</td>\n",
       "    </tr>\n",
       "  </tbody>\n",
       "</table>\n",
       "<p>600 rows × 4 columns</p>\n",
       "</div>"
      ],
      "text/plain": [
       "             image_id melanoma seborrheic_keratosis label\n",
       "0    ISIC_0012086.jpg      0.0                  1.0     2\n",
       "1    ISIC_0012092.jpg      0.0                  0.0     0\n",
       "2    ISIC_0012095.jpg      0.0                  0.0     0\n",
       "3    ISIC_0012134.jpg      0.0                  1.0     2\n",
       "4    ISIC_0012136.jpg      0.0                  1.0     2\n",
       "..                ...      ...                  ...   ...\n",
       "595  ISIC_0016068.jpg      0.0                  0.0     0\n",
       "596  ISIC_0016069.jpg      0.0                  0.0     0\n",
       "597  ISIC_0016070.jpg      0.0                  0.0     0\n",
       "598  ISIC_0016071.jpg      0.0                  0.0     0\n",
       "599  ISIC_0016072.jpg      0.0                  0.0     0\n",
       "\n",
       "[600 rows x 4 columns]"
      ]
     },
     "execution_count": 16,
     "metadata": {},
     "output_type": "execute_result"
    }
   ],
   "source": [
    "testdf"
   ]
  },
  {
   "cell_type": "code",
   "execution_count": null,
   "metadata": {},
   "outputs": [],
   "source": []
  }
 ],
 "metadata": {
  "kernelspec": {
   "display_name": "Python 3",
   "language": "python",
   "name": "python3"
  },
  "language_info": {
   "codemirror_mode": {
    "name": "ipython",
    "version": 3
   },
   "file_extension": ".py",
   "mimetype": "text/x-python",
   "name": "python",
   "nbconvert_exporter": "python",
   "pygments_lexer": "ipython3",
   "version": "3.8.5"
  }
 },
 "nbformat": 4,
 "nbformat_minor": 4
}
